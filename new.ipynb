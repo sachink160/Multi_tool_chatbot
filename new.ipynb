{
 "cells": [
  {
   "cell_type": "code",
   "execution_count": null,
   "id": "03fa0986",
   "metadata": {},
   "outputs": [],
   "source": [
    "# import datetime\n",
    "# import os.path\n",
    "\n",
    "# from google.auth.transport.requests import Request\n",
    "# from google.oauth2.credentials import Credentials\n",
    "# from google_auth_oauthlib.flow import InstalledAppFlow\n",
    "# from googleapiclient.discovery import build\n",
    "# from googleapiclient.errors import HttpError\n",
    "\n",
    "\n"
   ]
  },
  {
   "cell_type": "code",
   "execution_count": null,
   "id": "179bb5ab",
   "metadata": {},
   "outputs": [
    {
     "name": "stdout",
     "output_type": "stream",
     "text": [
      "Please visit this URL to authorize this application: https://accounts.google.com/o/oauth2/auth?response_type=code&client_id=583376317809-bdg1ed3k23m289jb1u84hbsuo6l70k9i.apps.googleusercontent.com&redirect_uri=http%3A%2F%2Flocalhost%3A53568%2F&scope=https%3A%2F%2Fwww.googleapis.com%2Fauth%2Fcalendar.readonly&state=NDGlpbSOHrFw7eLPc4aGrmzAI0Yv3c&access_type=offline\n"
     ]
    }
   ],
   "source": [
    "\n",
    "# # If modifying these scopes, delete the file token.json.\n",
    "# SCOPES = [\"https://www.googleapis.com/auth/calendar.readonly\"]\n",
    "\n",
    "\n",
    "# def main():\n",
    "#     \"\"\"Shows basic usage of the Google Calendar API.\n",
    "#     Prints the start and name of the next 10 events on the user's calendar.\n",
    "#     \"\"\"\n",
    "#     creds = None\n",
    "#     # The file token.json stores the user's access and refresh tokens, and is\n",
    "#     # created automatically when the authorization flow completes for the first\n",
    "#     # time.\n",
    "#     if os.path.exists(\"token.json\"):\n",
    "#         creds = Credentials.from_authorized_user_file(\"token.json\", SCOPES)\n",
    "#     # If there are no (valid) credentials available, let the user log in.\n",
    "#     if not creds or not creds.valid:\n",
    "#         if creds and creds.expired and creds.refresh_token:\n",
    "#             creds.refresh(Request())\n",
    "#         else:\n",
    "#             flow = InstalledAppFlow.from_client_secrets_file(\n",
    "#                 \"credentials.json\", SCOPES\n",
    "#             )\n",
    "#             creds = flow.run_local_server(port=0)\n",
    "#         # Save the credentials for the next run\n",
    "#         with open(\"token.json\", \"w\") as token:\n",
    "#             token.write(creds.to_json())\n",
    "\n",
    "#     try:\n",
    "#         service = build(\"calendar\", \"v3\", credentials=creds)\n",
    "\n",
    "#         # Call the Calendar API\n",
    "#         now = datetime.datetime.now(tz=datetime.timezone.utc).isoformat()\n",
    "#         print(\"Getting the upcoming 10 events\")\n",
    "#         events_result = (\n",
    "#             service.events()\n",
    "#             .list(\n",
    "#                 calendarId=\"primary\",\n",
    "#                 timeMin=now,\n",
    "#                 maxResults=10,\n",
    "#                 singleEvents=True,\n",
    "#                 orderBy=\"startTime\",\n",
    "#             )\n",
    "#             .execute()\n",
    "#         )\n",
    "#         events = events_result.get(\"items\", [])\n",
    "\n",
    "#         if not events:\n",
    "#             print(\"No upcoming events found.\")\n",
    "#             return\n",
    "\n",
    "#         # Prints the start and name of the next 10 events\n",
    "#         for event in events:\n",
    "#             start = event[\"start\"].get(\"dateTime\", event[\"start\"].get(\"date\"))\n",
    "#             print(start, event[\"summary\"])\n",
    "\n",
    "#     except HttpError as error:\n",
    "#         print(f\"An error occurred: {error}\")\n",
    "\n",
    "\n",
    "# if __name__ == \"__main__\":\n",
    "#     main()"
   ]
  },
  {
   "cell_type": "code",
   "execution_count": null,
   "id": "8f50a49e",
   "metadata": {},
   "outputs": [],
   "source": [
    "import requests\n",
    "from youtube_transcript_api import YouTubeTranscriptApi\n",
    "from youtube_transcript_api._errors import TranscriptsDisabled, NoTranscriptFound\n",
    "from langchain_openai import ChatOpenAI\n",
    "\n",
    "def get_youtube_video_id(url: str) -> str:\n",
    "    import re\n",
    "    patterns = [\n",
    "        r\"youtu\\.be/([^\\?&]+)\",\n",
    "        r\"youtube\\.com/watch\\?v=([^\\?&]+)\",\n",
    "        r\"youtube\\.com/embed/([^\\?&]+)\",\n",
    "        r\"youtube\\.com/v/([^\\?&]+)\"\n",
    "    ]\n",
    "    for pattern in patterns:\n",
    "        match = re.search(pattern, url)\n",
    "        if match:\n",
    "            return match.group(1)\n",
    "    raise ValueError(\"Invalid YouTube URL\")\n",
    "\n",
    "def get_youtube_title(video_id: str) -> str:\n",
    "    oembed_url = f\"https://www.youtube.com/oembed?url=https://www.youtube.com/watch?v={video_id}&format=json\"\n",
    "    resp = requests.get(oembed_url)\n",
    "    if resp.status_code == 200:\n",
    "        return resp.json().get(\"title\", \"\")\n",
    "    return \"\"\n",
    "\n",
    "def get_youtube_transcript(video_id: str) -> str:\n",
    "    try:\n",
    "        transcript = YouTubeTranscriptApi.get_transcript(video_id)\n",
    "        return \" \".join([x['text'] for x in transcript])\n",
    "    except (TranscriptsDisabled, NoTranscriptFound):\n",
    "        return \"Transcript not available for this video.\"\n",
    "\n",
    "def summarize_text_with_llm(text: str) -> str:\n",
    "    \"\"\"\n",
    "    Summarize the given text using LangChain's ChatOpenAI LLM.\n",
    "    \"\"\"\n",
    "    llm = ChatOpenAI(model=\"gpt-3.5-turbo\", temperature=0)\n",
    "    prompt = (\n",
    "        \"Summarize the following YouTube video transcript and provide key insights:\\n\\n\"\n",
    "        f\"{text}\\n\\nSummary:\"\n",
    "    )\n",
    "    response = llm.invoke(prompt)\n",
    "    return response.content.strip()\n",
    "\n",
    "def youtube_video_insight(url: str) -> dict:\n",
    "    video_id = get_youtube_video_id(url)\n",
    "    title = get_youtube_title(video_id)\n",
    "    transcript = get_youtube_transcript(video_id)\n",
    "    if transcript and transcript != \"Transcript not available for this video.\":\n",
    "        summary = summarize_text_with_llm(transcript)\n",
    "    else:\n",
    "        summary = \"No transcript available to summarize.\"\n",
    "    return {\n",
    "        \"title\": title,\n",
    "        \"transcript\": transcript,\n",
    "        \"summary\": summary\n",
    "    }\n",
    "\n",
    "# Example usage:\n",
    "# result = youtube_video_insight(\"https://www.youtube.com/watch?v=YOUR_VIDEO_ID\", \"sk-...\")\n",
    "# print(result[\"title\"])\n",
    "# print(result[\"summary\"])"
   ]
  },
  {
   "cell_type": "code",
   "execution_count": 9,
   "id": "11abddfa",
   "metadata": {},
   "outputs": [],
   "source": [
    "result = youtube_video_insight(\"https://www.youtube.com/watch?v=I1rDs_H2iAo\")\n"
   ]
  },
  {
   "cell_type": "code",
   "execution_count": 11,
   "id": "439c3421",
   "metadata": {},
   "outputs": [
    {
     "data": {
      "text/plain": [
       "{'title': 'Learn EVERYTHING About FastAPI in Just ONE Project (No Fluff!)',\n",
       " 'transcript': \"if you're tired of watching countless fast API videos and still struggling you came to the right place in this video we are building an intermediate backend social media app using fast API this intermediate project will answer a lot of your fast API questions like how do you connect to a database how do you join tables and configure database tables how do you implement authentication how do you structure a project with routes and how do real life fast API projects even look now this is strictly a guide on how to build an intermediate project from scratch if you want an a toz reference guide on how to use fast API then check out my bestselling fast API course linked below if you're new to the channel I'm Eric Roby a software engineer with over a decade of experience and I've helped thousands of developers learn and grow within their craft now before we dive into code please hit that subscribe button it helps me tremendously all right now I'm assuming that you've already clicked it so let's dive into some code all right so let's start by looking at the project we're going to be building which is a micro blogging site which is very similar to a lot of other micro blogging sites out there so when we look at it first we have our users which is create user follow user unfollow user we're able to create a login for an access token so if you successfully log in you'll be able to get a JWT as a response we have our read posts create new post delete post update post like and unlike post retweet and unretweet posts and then re read posts with counts which is a really cool API that merges the users the posts and all that together to get a single response so if we went through it real quick and we just said hey we're going to run this real quick we can say we're going to have our username coding with Roby email hi at coding withth ry.com with our password of test1 234 exclamation mark where we're able to get a successful response we're going to sign in real quick hop on in so now all of our endpoints are active if we want to create a new post we can create a new post that programming is awesome if we run this we can see we get a successful response and what's cool is let's go ahead and just like our own post real quick so if you try and like it twice you can see it's going to say already liked so we're doing exception handling and then if we retweet it real quick we now have a retweet added to our own post so just like any other micro blogging site you're able to like and repost your own post so if you come over here now we say execute here this is where like a lot of the magic happens where we're able to merge the post with the user so we're having the programming is Awesome with an ID of one with a timestamp the owner ID which is the unique identifier for the user the number of likes the number of retweets and then finally the user name so if you think of like how a micro blogging site works you'll see the post you'll see the number of likes retweets and the content and who posted it so has all the information we need right there so this is going to be a pretty cool application let's go ahead and dive into the code and see exactly how it's built all right let's go ahead and just look at the directory to start so we have the schemas which is going to be all the pantic objects for data validation we're going to have the models which is going to be all the database tables main which is going to be like the main start for the application we have exceptions where all of our exceptions are going to live off database which is where the root of our database code and how we connect our fast API application to a database off dopy which is going to be the authentication and then inside our routes we have another off.i which is simply some of the endpoints like being able to log in and get that JWT back post switch is to create a post and then users to be able to create a user and be able to follow and unfollow users so has all the information we need right here all right so now let's go ahead and dive into the code so we have our database. py which is going to be like the main spot I'm going to say that we start because almost every file needs the database because that's where we're storing and retrieving data so we're starting with our create engine which is going to be able to create actually the engine for our SQL Alchemy our declarative base and our session maker we have our URL string which shows sqlite where it needs to live inside the application so if we open up our directory we can see it's going back three spots and we're going to name the database micr blog. DB and it's right here micro blog. DB we have to create an engine which just essentially creates the SQL like connection to our application we need to add our session local and then we just have this yield statement which is going to be a dependency injection thing that we'll see later on in the files where we can create the connection to our database do whatever we need and then finally close the database once we're done using it for that operation so that's awesome stuff now if we look into our models now our models are going to be a little bit more in depth than the database. py file so we have our SQL Alchemy which is going to need a column integer string date time foreign key and tables that's going to be the actual field that is inside the table so if there's a table that's going to be the field of what needs to be saved inside a table when we start creating the tables when we start creating the records we're going to be creating relationships between our database tables we need our database and we need date time and time zone to be able to capture the date when items are created updated deleted whatever we want to do with that all right so to start we have this follow Association table that we need to create before the user class now this is essentially creating the database schema that's saying our follower ID is going to be linked to a foreign key of user ID and our followe ID is going to be linked to a user ID so this is all about when a user is able to follow a new person on the application or having a follower and being able to link it back to whoever's following your content we then have our class user which is going to be of base from SQL Alchemy we're going to be naming this table users and a user is going to have an ID which is going to be an integer which is going to be the unique identifier for that user a username which we're also going to make unique so two users can't have the same username we're going to block it at the database level so it can't get in same thing with the email then we're going to have a hashed password where we're going to be using bcrypt the created ad date which is going to be today's date so as soon as it gets to the database what date is it a user is going to have a relationship with post which is going to back populate to the owner which is the user we then have our followers which is equal to relationship so our user secondary is going to be follow and then here we can see that our primary join is going to be the ID of the follow. c.f followe ID and the secondary join is going to be the follower ID so that's just linking the follower status to the specific user and then we have our post which we're going to name posts same thing we're going to have an ID of a primary key content timestamp and owner ID so a post is going to have a foreign key that goes back to the owner ID and then it's going to have three relationships to the owner the number of likes and the number of retweets so let's go ahead and look at the likes and retweets our like is going to have two foreign Keys which goes back to the user ID and to the post ID and then we're going to have the back full relationship to the user and post retweet is going to have the exact same thing except for we're also capturing a timestamp so we're going to have the user ID and the post ID the relationships are the same but we're also capturing a timestamp if we go ahead and look at the schemas which is going to be simply the pantic base models we're going to have our user base our user create and then our user and then we're going to have these class configs from attributes equals true this just simply allows the model to be initialized using objects or om like attributes instead of just using plain dictionaries so this is really needed for om like SQL Alchemy we then have our token schemas our post schemas and then lastly our like and retweet schemas so it's going to be very similar to the data models that we're creating for our database table but we're going to be using panting for data validation so when a request comes in or we're configuring data we're going to be validating that data to make sure that we are only inputting correct data into the database now if you're using something like SQL model that also comes with pantic on the database layer but we're using SQL Alchemy here that does not come with a data validation layer so we're doing extra data validation before it gets to the database using pantic by itself in the request of our fast API business logic all right and then if we look at our exceptions we're going to separate all of our exceptions into different logic where we just kind of have a standard 404 403 400 a a 401 and a 409 each of these strings come with default values so you don't necessarily have to pass anything in but it makes the application way better if you do so these are just default values if just to make sure you're not returning any kind of security vulnerabilities back to the application or back to the user our off. piy file also has a ton of information going on we have our secret key which is going to be your secret key I'm just kind of keeping it right here for whatever you want to input but you can add your secret key an algorithm of hs256 with an expiration token of 30 minutes now two things to note inside here we're using more than just fast API we're using pi JWT which you can install by doing pip install Pi JWT and then we're using pass lib which we're using for this crypto context and it's passlib of bcrypt which allows us to be able to create the hash so our passwords are safe inside the database so our password context is going to be bcrypt and then this is from Fast API just saying hey we're going to be retrieving an oof2 password form which allows us to be able to do our bare tokens and authentication fairly easy so then we have our verify password which is going to be using our password context just to make sure that hey when a plain password's passed in and or hash password's passed in we can verify the user and then if we want to get the password hash we can go ahead and just return the hash of the password getting submitted we then want to be able to create an access token so we are just going to be creating the encode and then encoding it with the secret algorithm and then Reco then returning that encode coded JWT back to the user and then this get current user is what we're using as our dependency injection for each request that we want to hide behind authentication and this request is what takes in the token and the database session validates that the token is correct and if it's not we're going to return a pi jwbt error and say hey you guys can't use this but if it repasses all those requests we're just going to return it back to the user saying hey this token is valid now our main.py like I said is going to be the bread and butter of starting our application our base. metadata. create all what this essentially is doing is creating the database behind scenes so it's checking and seeing hey does this database exist if not let's go ahead and create it if it does exist then we don't need to create it app equals fast API that is just us starting with the root of our application and then we have three routers users off and posts which allow us to be able to scale the fast API application better cleaner than just having you know all the API end points stuck in one single main.py file so we're off. py file is pretty simple we have this router tag which says hey all of our endpoints need to start with off so off slash whatever it is then we have our login endpoint which is called token which is going to respond back with the token if a user signs in with their information or we're going to grab the form data which is going to have the username and password and then we're doing all of the calls back to our off dopy like verify the JWT tokens making sure that they haven't been altered at all making sure it's not past expiration date and then returning the token if it passes and doesn't raise any errors our users is doing the same thing where we have our tag of users and our prefix so our prefix means it's going to start with SL users and then our tag is going to be like in Swagger where it says users up front and then we're we're going to be using a little bit of annotated from python within the typing hints and here is where we can register users and if we ever fail during it we're just calling our exceptions and here's where we can follow users and we're doing the same thing checking if the user is in the database if not we're going to throw some exceptions appendant there or we're going to be able to unfollow user endpoints and we're essentially doing the same thing here as well where we're just going to be able to check make sure the user exists if we're not already following them if the user doesn't exist then we're going to say user not found you can't unfollow yourself not following this user we're just checking a couple different scenarios to make sure that you're able to actually follow or unfollow that specific user and then lastly posts is the big one where we have our prefix of/ posts our tags of posts where we're doing the same thing with our database dependency we have our git post endpoint which we're going to have a couple query parameters here saying that we can only call 10 posts at a time to help with the bandwidth we're going to say post equal to DB query we're going to order by the timestamp descending and then we're going to be passing in these Skip and limit values and then return the posts if we're going to create a new post endpoint we can see right here we're going to return a response model over schema. poost we're going to be submitting that post and we're going to make sure that the user is validated if the user is validated well then we can just create that post add it to the database commit it refresh and then return that database back to the user now for delete we're going to be passing an ID returning a status code of 204 make sure the user exists by using dependency injection if the post does not exist then we want to throw an exception saying post not found but if it does exist we just want to delete it and commit the post for update we want to do the same thing where we already have a post ID we want to fetch that post ID to make sure it's actually in the database we want to take the post request swap out all the features in post that's different which is just going to be content in this case make sure the user is valid and is the owner of the original post which right here we're checking to make sure the post is correct not authorized to edit this post and then we want to make sure that it's only within a 10minute edit window and that's because like if you make a post you don't want them to be able to change the post a week later right we want to make sure that based on the exact time right now and the exact time it was created was it only a 10-minute window and we want to do this all in the database and server side so there is no hacking or user can't change it if everything checks out let's commit the post and make the update if you want to like a post we're going to be doing the pretty much the same thing fetch the ID make sure the post was found making sure you haven't already liked it and then allowing you to like it you can like your post or anybody else's post unlike is the exact same logic but it's doing the opposite making sure that you can unlike items if you've already liked them that's the only one condition right you have to like it first we have our retweet post endpoint which is doing the same thing as like un retweet which is doing the same thing as liked but for retweets and then here's the big one get posts with counts and points we want to call the database and be able to link it based on likes so we are adding likes to the Post post we then want to do it for retweets we want to add a subquery to count the retweets for each post so we're counting the likes and the retweets we want to fetch the post along with their like and retweet counts for their owner username we have our model. poost our model username where we includes the owner's username we're going to join it with the like counts we're going to join it with the retweets and then we want to join it with our user IDs where we can get the count subquery and then finally we want to add the timestamp and then down here we're going to do it again again where we include the owner's username in the response and then return it as one entire post now I know this was a ton this source code is completely free get it in the link below I hope you enjoyed it I hope it let you be able to scale projects a little bit more I know there's so much to cover I didn't go into crazy detail but cheers friends and I'll see you in the next video\",\n",
       " 'insight': 'Overall Summary:\\nThis YouTube video covers building a microblogging social media app using FastAPI, focusing on topics like database connection, authentication, route structuring, and more. The speaker demonstrates creating users, posts, likes, and retweets, emphasizing the importance of security measures and data validation.\\n\\nMain Key Points:\\n- Building a microblogging social media app using FastAPI\\n- Covering topics like database connection, authentication, route structuring, and more\\n- Demonstrating creating users, posts, likes, and retweets\\n- Emphasizing security measures like password hashing and access token creation\\n- Using Pantic for data validation and Pi JWT for security\\n\\nPossible Applications or Implications:\\n- Learning how to build a backend application using FastAPI\\n- Understanding the importance of security measures in web development\\n- Implementing data validation and authentication in social media applications\\n- Applying the concepts learned to other projects requiring user authentication and data manipulation\\n\\nImportant Takeaways or Advice:\\n- Focus on security measures like password hashing and access token creation\\n- Pay attention to data validation and exception handling for a robust application\\n- Understand the structure of database tables and relationships for efficient data management\\n- Utilize the provided source code and resources to enhance and scale your projects'}"
      ]
     },
     "execution_count": 11,
     "metadata": {},
     "output_type": "execute_result"
    }
   ],
   "source": [
    "result"
   ]
  }
 ],
 "metadata": {
  "kernelspec": {
   "display_name": "venv",
   "language": "python",
   "name": "python3"
  },
  "language_info": {
   "codemirror_mode": {
    "name": "ipython",
    "version": 3
   },
   "file_extension": ".py",
   "mimetype": "text/x-python",
   "name": "python",
   "nbconvert_exporter": "python",
   "pygments_lexer": "ipython3",
   "version": "3.11.7"
  }
 },
 "nbformat": 4,
 "nbformat_minor": 5
}
