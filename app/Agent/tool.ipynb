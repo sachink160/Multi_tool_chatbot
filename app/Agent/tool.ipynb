{
 "cells": [
  {
   "cell_type": "code",
   "execution_count": 87,
   "id": "e2f8748b",
   "metadata": {},
   "outputs": [
    {
     "data": {
      "text/plain": [
       "[ToolMessage(content='294', name='multiply', tool_call_id='call_isyCvnuwmArmRmkKuruxpEWU')]"
      ]
     },
     "execution_count": 87,
     "metadata": {},
     "output_type": "execute_result"
    }
   ],
   "source": [
    "from langchain_core.tools import tool\n",
    "from langchain.chat_models import init_chat_model\n",
    "from langgraph.prebuilt import ToolNode\n",
    "\n",
    "@tool\n",
    "def multiply(a: int, b: int) -> int:\n",
    "    \"\"\"Multiply two numbers.\"\"\"\n",
    "    return a * b\n",
    "\n",
    "@tool\n",
    "def sum(a: int, b: int) -> int:\n",
    "    \"\"\"Sum or Add two numbers.\"\"\"\n",
    "    \n",
    "    return a + b\n",
    "\n",
    "tools = [multiply, sum]\n",
    "\n",
    "model = init_chat_model(model=\"openai:gpt-4o\")\n",
    "model_with_tools = model.bind_tools(tools)\n",
    "\n",
    "tool_call = model_with_tools.invoke(\"what's 42 * 7?\")\n",
    "\n",
    "tool_node = ToolNode(tools)\n",
    "result = tool_node.invoke({\"messages\": [tool_call]})\n",
    "result['messages']\n",
    "\n"
   ]
  },
  {
   "cell_type": "code",
   "execution_count": 29,
   "id": "14647958",
   "metadata": {},
   "outputs": [],
   "source": [
    "from langchain.chat_models import init_chat_model\n",
    "from langgraph.prebuilt import ToolNode\n",
    "from langgraph.graph import StateGraph, MessagesState, START, END\n",
    "\n",
    "from dotenv import load_dotenv\n",
    "\n",
    "load_dotenv()\n",
    "\n",
    "def youtube_search(query: str) -> str:\n",
    "    \"\"\"\n",
    "    Search YouTube for videos matching the given query and return a summary of the top results.\n",
    "\n",
    "    Args:\n",
    "        query (str): The search keywords or phrase to look up on YouTube.\n",
    "\n",
    "    Returns:\n",
    "        str: A summary or list of the top YouTube video results for the query.\n",
    "    \"\"\"\n",
    "    # Placeholder: Integrate with YouTube Data API for real results\n",
    "    return f\"YouTube results for: {query}\"\n",
    "\n",
    "def google_search(query: str) -> str:\n",
    "    \"\"\"\n",
    "    Search Google for the provided query and return a summary of the most relevant results.\n",
    "\n",
    "    Args:\n",
    "        query (str): The search keywords or phrase to look up on Google.\n",
    "\n",
    "    Returns:\n",
    "        str: A summary or list of the top Google search results for the query.\n",
    "    \"\"\"\n",
    "    # Placeholder: Integrate with Google Custom Search API for real results\n",
    "    return f\"Google results for: {query}\"\n",
    "\n",
    "def weather_search(location: str) -> str:\n",
    "    \"\"\"\n",
    "    Retrieve the current weather information for a specified location.\n",
    "\n",
    "    Args:\n",
    "        location (str): The name of the city or location to get weather data for.\n",
    "\n",
    "    Returns:\n",
    "        str: A summary of the current weather conditions at the specified location.\n",
    "    \"\"\"\n",
    "    # Placeholder: Integrate with a weather API for real results\n",
    "    return f\"Weather for {location}: Sunny, 25°C\"\n",
    "\n",
    "def send_email(to: str, subject: str, body: str) -> str:\n",
    "    \"\"\"\n",
    "    Send an email to the specified recipient with the given subject and message body.\n",
    "\n",
    "    Args:\n",
    "        to (str): The recipient's email address.\n",
    "        subject (str): The subject line of the email.\n",
    "        body (str): The main content of the email.\n",
    "\n",
    "    Returns:\n",
    "        str: A confirmation message indicating the email was sent.\n",
    "    \"\"\"\n",
    "    # Placeholder: Integrate with an email service for real results\n",
    "    return f\"Email sent to {to} with subject '{subject}'\"\n",
    "\n",
    "def multiply(a: int, b: int) -> int:\n",
    "    \"\"\"Multiply two numbers.\"\"\"\n",
    "    return a * b\n",
    "\n",
    "def sum(a: int, b: int) -> int:\n",
    "    \"\"\"Sum or Add two numbers.\"\"\"\n",
    "    return a + b\n",
    "\n",
    "total_tool = [weather_search, sum, multiply, send_email, google_search, youtube_search]\n",
    "\n",
    "tool_node = ToolNode(total_tool)\n",
    "\n",
    "model = init_chat_model(model=\"openai:gpt-4o\")\n",
    "model_with_tools = model.bind_tools(total_tool)\n",
    "\n",
    "def should_continue(state: MessagesState):\n",
    "    messages = state[\"messages\"]\n",
    "    last_message = messages[-1]\n",
    "    if last_message.tool_calls:\n",
    "        return \"tools\"\n",
    "    return END\n",
    "\n",
    "def call_model(state: MessagesState):\n",
    "    messages = state[\"messages\"]\n",
    "    response = model_with_tools.invoke(messages)\n",
    "    return {\"messages\": [response]}\n",
    "\n",
    "builder = StateGraph(MessagesState)\n",
    "\n",
    "# Define the two nodes we will cycle between\n",
    "builder.add_node(\"call_model\", call_model)\n",
    "builder.add_node(\"tools\", tool_node)\n",
    "\n",
    "builder.add_edge(START, \"call_model\")\n",
    "builder.add_conditional_edges(\"call_model\", should_continue, [\"tools\", END])\n",
    "builder.add_edge(\"tools\", \"call_model\")\n",
    "\n",
    "graph = builder.compile()\n",
    "\n"
   ]
  },
  {
   "cell_type": "code",
   "execution_count": 30,
   "id": "b1bd7d2d",
   "metadata": {},
   "outputs": [],
   "source": [
    "result = graph.invoke({\"messages\": [{\"role\": \"user\", \"content\": \"search in google who is the prime minister of india\"}]})"
   ]
  },
  {
   "cell_type": "code",
   "execution_count": 31,
   "id": "4a1bb533",
   "metadata": {},
   "outputs": [],
   "source": [
    "result_messages  = result.get(\"messages\")"
   ]
  },
  {
   "cell_type": "code",
   "execution_count": 32,
   "id": "d6463378",
   "metadata": {},
   "outputs": [
    {
     "data": {
      "text/plain": [
       "[HumanMessage(content='search in google who is the prime minister of india', additional_kwargs={}, response_metadata={}, id='e750bbec-b8e2-44b3-b5ae-53b0cf35ed52'),\n",
       " AIMessage(content='', additional_kwargs={'tool_calls': [{'id': 'call_kqBlK8GA71qGs3oKmlKC8zmi', 'function': {'arguments': '{\"query\":\"current Prime Minister of India\"}', 'name': 'google_search'}, 'type': 'function'}], 'refusal': None}, response_metadata={'token_usage': {'completion_tokens': 18, 'prompt_tokens': 260, 'total_tokens': 278, 'completion_tokens_details': {'accepted_prediction_tokens': 0, 'audio_tokens': 0, 'reasoning_tokens': 0, 'rejected_prediction_tokens': 0}, 'prompt_tokens_details': {'audio_tokens': 0, 'cached_tokens': 0}}, 'model_name': 'gpt-4o-2024-08-06', 'system_fingerprint': 'fp_90122d973c', 'id': 'chatcmpl-BXMUdp9HzLF8oLs4hhxsZ8EJIprOn', 'service_tier': 'default', 'finish_reason': 'tool_calls', 'logprobs': None}, id='run--f97a416c-7e89-4617-b788-90b4f4c329ac-0', tool_calls=[{'name': 'google_search', 'args': {'query': 'current Prime Minister of India'}, 'id': 'call_kqBlK8GA71qGs3oKmlKC8zmi', 'type': 'tool_call'}], usage_metadata={'input_tokens': 260, 'output_tokens': 18, 'total_tokens': 278, 'input_token_details': {'audio': 0, 'cache_read': 0}, 'output_token_details': {'audio': 0, 'reasoning': 0}}),\n",
       " ToolMessage(content='Google results for: current Prime Minister of India', name='google_search', id='14ce684e-2816-4c9e-be6d-aa7a0bed91e3', tool_call_id='call_kqBlK8GA71qGs3oKmlKC8zmi'),\n",
       " AIMessage(content='The current Prime Minister of India is Narendra Modi.', additional_kwargs={'refusal': None}, response_metadata={'token_usage': {'completion_tokens': 12, 'prompt_tokens': 295, 'total_tokens': 307, 'completion_tokens_details': {'accepted_prediction_tokens': 0, 'audio_tokens': 0, 'reasoning_tokens': 0, 'rejected_prediction_tokens': 0}, 'prompt_tokens_details': {'audio_tokens': 0, 'cached_tokens': 0}}, 'model_name': 'gpt-4o-2024-08-06', 'system_fingerprint': 'fp_f5bdcc3276', 'id': 'chatcmpl-BXMUeShwIIKwM888kOZdPSxIeMqOU', 'service_tier': 'default', 'finish_reason': 'stop', 'logprobs': None}, id='run--67eaba43-b35f-4548-a228-508f5eb70a1a-0', usage_metadata={'input_tokens': 295, 'output_tokens': 12, 'total_tokens': 307, 'input_token_details': {'audio': 0, 'cache_read': 0}, 'output_token_details': {'audio': 0, 'reasoning': 0}})]"
      ]
     },
     "execution_count": 32,
     "metadata": {},
     "output_type": "execute_result"
    }
   ],
   "source": [
    "result.get(\"messages\")"
   ]
  },
  {
   "cell_type": "code",
   "execution_count": 33,
   "id": "26b064c3",
   "metadata": {},
   "outputs": [
    {
     "name": "stdout",
     "output_type": "stream",
     "text": [
      "['google_search']\n"
     ]
    }
   ],
   "source": [
    "from langchain_core.messages import ToolMessage\n",
    "\n",
    "tool_messages = [\n",
    "    {\"tool_name\": msg.name, \"content\": msg.content}\n",
    "    for msg in result_messages\n",
    "    if isinstance(msg, ToolMessage)\n",
    "]\n",
    "\n",
    "# Extract tool names\n",
    "tool_name = [msg.name for msg in result_messages if isinstance(msg, ToolMessage)]\n",
    "\n",
    "print(tool_name)"
   ]
  },
  {
   "cell_type": "code",
   "execution_count": 34,
   "id": "5a25669d",
   "metadata": {},
   "outputs": [
    {
     "data": {
      "text/plain": [
       "[HumanMessage(content='search in google who is the prime minister of india', additional_kwargs={}, response_metadata={}, id='e750bbec-b8e2-44b3-b5ae-53b0cf35ed52'),\n",
       " AIMessage(content='', additional_kwargs={'tool_calls': [{'id': 'call_kqBlK8GA71qGs3oKmlKC8zmi', 'function': {'arguments': '{\"query\":\"current Prime Minister of India\"}', 'name': 'google_search'}, 'type': 'function'}], 'refusal': None}, response_metadata={'token_usage': {'completion_tokens': 18, 'prompt_tokens': 260, 'total_tokens': 278, 'completion_tokens_details': {'accepted_prediction_tokens': 0, 'audio_tokens': 0, 'reasoning_tokens': 0, 'rejected_prediction_tokens': 0}, 'prompt_tokens_details': {'audio_tokens': 0, 'cached_tokens': 0}}, 'model_name': 'gpt-4o-2024-08-06', 'system_fingerprint': 'fp_90122d973c', 'id': 'chatcmpl-BXMUdp9HzLF8oLs4hhxsZ8EJIprOn', 'service_tier': 'default', 'finish_reason': 'tool_calls', 'logprobs': None}, id='run--f97a416c-7e89-4617-b788-90b4f4c329ac-0', tool_calls=[{'name': 'google_search', 'args': {'query': 'current Prime Minister of India'}, 'id': 'call_kqBlK8GA71qGs3oKmlKC8zmi', 'type': 'tool_call'}], usage_metadata={'input_tokens': 260, 'output_tokens': 18, 'total_tokens': 278, 'input_token_details': {'audio': 0, 'cache_read': 0}, 'output_token_details': {'audio': 0, 'reasoning': 0}}),\n",
       " ToolMessage(content='Google results for: current Prime Minister of India', name='google_search', id='14ce684e-2816-4c9e-be6d-aa7a0bed91e3', tool_call_id='call_kqBlK8GA71qGs3oKmlKC8zmi'),\n",
       " AIMessage(content='The current Prime Minister of India is Narendra Modi.', additional_kwargs={'refusal': None}, response_metadata={'token_usage': {'completion_tokens': 12, 'prompt_tokens': 295, 'total_tokens': 307, 'completion_tokens_details': {'accepted_prediction_tokens': 0, 'audio_tokens': 0, 'reasoning_tokens': 0, 'rejected_prediction_tokens': 0}, 'prompt_tokens_details': {'audio_tokens': 0, 'cached_tokens': 0}}, 'model_name': 'gpt-4o-2024-08-06', 'system_fingerprint': 'fp_f5bdcc3276', 'id': 'chatcmpl-BXMUeShwIIKwM888kOZdPSxIeMqOU', 'service_tier': 'default', 'finish_reason': 'stop', 'logprobs': None}, id='run--67eaba43-b35f-4548-a228-508f5eb70a1a-0', usage_metadata={'input_tokens': 295, 'output_tokens': 12, 'total_tokens': 307, 'input_token_details': {'audio': 0, 'cache_read': 0}, 'output_token_details': {'audio': 0, 'reasoning': 0}})]"
      ]
     },
     "execution_count": 34,
     "metadata": {},
     "output_type": "execute_result"
    }
   ],
   "source": [
    "result.get(\"messages\")"
   ]
  },
  {
   "cell_type": "code",
   "execution_count": 124,
   "id": "8bc7ff33",
   "metadata": {},
   "outputs": [],
   "source": [
    "result = graph.invoke({\"messages\": [{\"role\": \"user\", \"content\": \"who is the prime minister of india\"}]})"
   ]
  },
  {
   "cell_type": "code",
   "execution_count": 125,
   "id": "a6639926",
   "metadata": {},
   "outputs": [
    {
     "data": {
      "text/plain": [
       "'As of October 2023, the Prime Minister of India is Narendra Modi.'"
      ]
     },
     "execution_count": 125,
     "metadata": {},
     "output_type": "execute_result"
    }
   ],
   "source": [
    "result[\"messages\"][-1].content"
   ]
  }
 ],
 "metadata": {
  "kernelspec": {
   "display_name": "venv",
   "language": "python",
   "name": "python3"
  },
  "language_info": {
   "codemirror_mode": {
    "name": "ipython",
    "version": 3
   },
   "file_extension": ".py",
   "mimetype": "text/x-python",
   "name": "python",
   "nbconvert_exporter": "python",
   "pygments_lexer": "ipython3",
   "version": "3.11.7"
  }
 },
 "nbformat": 4,
 "nbformat_minor": 5
}
